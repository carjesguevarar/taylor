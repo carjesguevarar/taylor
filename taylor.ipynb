{
 "cells": [
  {
   "cell_type": "markdown",
   "metadata": {
    "collapsed": true
   },
   "source": [
    "# Recursos necesarios"
   ]
  },
  {
   "cell_type": "code",
   "execution_count": 1,
   "metadata": {},
   "outputs": [],
   "source": [
    "import math\n",
    "import matplotlib.pyplot as plt\n",
    "\n",
    "\n",
    "grap = []\n",
    "\n",
    "\n",
    "def f(n, x):\n",
    "    \"\"\"\n",
    "    Función que devuelve el valor de la función en una de sus derivadas, o en la función original.\n",
    "    :param n: Indicador del número de derivada que se desea, o cero para la función original.\n",
    "    :param x: Punto en donde se evalua la función.\n",
    "    :return: Valor de la función evaluada.\n",
    "    \"\"\"\n",
    "    return {\n",
    "        0: x*math.log(x),\n",
    "        1: math.log(x) + 1,\n",
    "        2: 1/x,\n",
    "        3: -1/x**2\n",
    "    }[n]\n",
    "\n",
    "\n",
    "def relerr(vn, vl):\n",
    "    \"\"\"\n",
    "    Función que calcula el error relativo.\n",
    "    :param vn: Valor actual.\n",
    "    :param vl: Valor anterior.\n",
    "    :return: Error relativo en base a los dos valores.\n",
    "    \"\"\"\n",
    "    return abs((vn-vl)/vn)"
   ]
  },
  {
   "cell_type": "markdown",
   "metadata": {},
   "source": [
    "# Método de Taylor"
   ]
  },
  {
   "cell_type": "code",
   "execution_count": 2,
   "metadata": {},
   "outputs": [],
   "source": [
    "def taylor(val, n, valt):\n",
    "    \"\"\"\n",
    "    Función que aproxiama en un punto una función dada, mediante el método de Taylor.\n",
    "    :param val: Punto a aproximar en el polinomio de Taylor.\n",
    "    :param n: Grado del polinomio de Taylor.\n",
    "    :param valt: Valor a evaluar en el polinomio de Taylor.\n",
    "    :return: Valor numérico de la evaluación en el polinomio de Taylor.\n",
    "    \"\"\"\n",
    "    p = 0\n",
    "    for i in range(n + 1):\n",
    "        p = p + (f(i, val)*(valt - val)**i)/math.factorial(i)\n",
    "        grap.append(p)\n",
    "    return p"
   ]
  },
  {
   "cell_type": "markdown",
   "metadata": {},
   "source": [
    "# Vista de resultos"
   ]
  },
  {
   "cell_type": "markdown",
   "metadata": {},
   "source": [
    "Valor real de la evaluación en la función:"
   ]
  },
  {
   "cell_type": "code",
   "execution_count": 3,
   "metadata": {
    "collapsed": false
   },
   "outputs": [
    {
     "data": {
      "text/plain": [
       "0.471061131269698"
      ]
     },
     "execution_count": 3,
     "metadata": {},
     "output_type": "execute_result"
    }
   ],
   "source": [
    "f(0, 1.4)"
   ]
  },
  {
   "cell_type": "markdown",
   "metadata": {},
   "source": [
    "Valor aproximado de la evaluación en el polinomi de Taylor:"
   ]
  },
  {
   "cell_type": "code",
   "execution_count": 4,
   "metadata": {},
   "outputs": [
    {
     "data": {
      "text/plain": [
       "0.4693333333333332"
      ]
     },
     "execution_count": 4,
     "metadata": {},
     "output_type": "execute_result"
    }
   ],
   "source": [
    "taylor(1, 3, 1.4)"
   ]
  },
  {
   "cell_type": "markdown",
   "metadata": {},
   "source": [
    "Valor numérico del Error Relativo:"
   ]
  },
  {
   "cell_type": "code",
   "execution_count": 5,
   "metadata": {},
   "outputs": [
    {
     "data": {
      "text/plain": [
       "0.003667884742915826"
      ]
     },
     "execution_count": 5,
     "metadata": {},
     "output_type": "execute_result"
    }
   ],
   "source": [
    "relerr(f(0, 1.4), taylor(1, 3, 1.4))"
   ]
  },
  {
   "cell_type": "markdown",
   "metadata": {},
   "source": [
    "Representación grafica del Error Relativo:"
   ]
  },
  {
   "cell_type": "code",
   "execution_count": 6,
   "metadata": {},
   "outputs": [
    {
     "data": {
      "text/plain": [
       "[<matplotlib.lines.Line2D at 0xabe873ec>]"
      ]
     },
     "execution_count": 6,
     "metadata": {},
     "output_type": "execute_result"
    },
    {
     "data": {
      "image/png": "[encoded data removed]",
      "text/plain": [
       "<Figure size 432x288 with 1 Axes>"
      ]
     },
     "metadata": {},
     "output_type": "display_data"
    }
   ],
   "source": [
    "plt.plot(grap)"
   ]
  }
 ],
 "metadata": {
  "kernelspec": {
   "display_name": "Python 2",
   "language": "python",
   "name": "python2"
  },
  "language_info": {
   "codemirror_mode": {
    "name": "ipython",
    "version": 2
   },
   "file_extension": ".py",
   "mimetype": "text/x-python",
   "name": "python",
   "nbconvert_exporter": "python",
   "pygments_lexer": "ipython2",
   "version": "2.7.6"
  }
 },
 "nbformat": 4,
 "nbformat_minor": 0
}
